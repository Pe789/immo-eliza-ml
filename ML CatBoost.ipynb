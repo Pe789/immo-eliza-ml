{
 "cells": [
  {
   "cell_type": "code",
   "execution_count": 2,
   "metadata": {},
   "outputs": [],
   "source": [
    "import pandas as pd\n",
    "from sklearn.model_selection import train_test_split\n",
    "import matplotlib.pyplot as plt\n",
    "from sklearn.metrics import r2_score\n",
    "from catboost import CatBoostRegressor, Pool\n",
    "from sklearn.metrics import accuracy_score\n",
    "from sklearn.metrics import root_mean_squared_error\n",
    "\n",
    "import numpy as np\n",
    "\n",
    "pd.set_option('display.max_columns', None)\n",
    "\n",
    "# Upload csv file : file is copied from \"C:\\repos\\immo-eliza-team6-analysis\\analysis\\Team_6_Step_3b_outliers_cat.ipynb\"\n",
    "# after running \"analysis\\Team_6_Step_3b_outliers_cat.ipynb\" without the coding blocks for \n",
    "# \"Encoding - label encoding\" on kitchen type, state of building and EPC \n",
    "# (hence, missing values on categorical values was treated)\n",
    "data = r'raw.csv' \n",
    "df = pd.read_csv(data, sep = ',')"
   ]
  },
  {
   "cell_type": "code",
   "execution_count": 3,
   "metadata": {},
   "outputs": [
    {
     "name": "stdout",
     "output_type": "stream",
     "text": [
      "Remaining dataframe (df2) :\n",
      "<class 'pandas.core.frame.DataFrame'>\n",
      "RangeIndex: 4180 entries, 0 to 4179\n",
      "Data columns (total 13 columns):\n",
      " #   Column              Non-Null Count  Dtype \n",
      "---  ------              --------------  ----- \n",
      " 0   id                  4180 non-null   int64 \n",
      " 1   Price               4180 non-null   int64 \n",
      " 2   Number_of_bedrooms  4180 non-null   int64 \n",
      " 3   Living_area         4180 non-null   int64 \n",
      " 4   Open_fire           4180 non-null   bool  \n",
      " 5   Swimming_Pool       4180 non-null   bool  \n",
      " 6   Kitchen_type        4180 non-null   object\n",
      " 7   Number_of_facades   4180 non-null   int64 \n",
      " 8   State_of_building   4180 non-null   object\n",
      " 9   epc                 4180 non-null   object\n",
      " 10  landSurface         4180 non-null   int64 \n",
      " 11  Province            4180 non-null   object\n",
      " 12  Has_Assigned_City   4180 non-null   bool  \n",
      "dtypes: bool(3), int64(6), object(4)\n",
      "memory usage: 338.9+ KB\n",
      "shape of df2: (4180, 13)\n",
      "type of df2: <class 'pandas.core.frame.DataFrame'>\n"
     ]
    }
   ],
   "source": [
    "### dropping columns not to be considered in model < df2 ###\n",
    "#print(df['Number_of_facades'].value_counts())\n",
    "df2 = df.drop(['locality_name', 'Postal_code','street', 'number', 'Subtype','latitude','longitude','hasTerrace','terraceSurface', 'gardenSurface', 'Furnished','price_per_sqm',\n",
    "       'price_per_sqm_land', 'Assigned_City','Assigned_City_5', 'Has_Assigned_City_5', 'Assigned_City_10','Has_Assigned_City_10', 'Assigned_City_15', 'Has_Assigned_City_15'],axis=1)\n",
    "\n",
    "print(\"Remaining dataframe (df2) :\")\n",
    "df2.info()\n",
    "print(\"shape of df2:\",df2.shape)\n",
    "print(\"type of df2:\", type(df2))\n"
   ]
  },
  {
   "cell_type": "code",
   "execution_count": 4,
   "metadata": {},
   "outputs": [
    {
     "name": "stdout",
     "output_type": "stream",
     "text": [
      "data type of X and y: <class 'pandas.core.frame.DataFrame'> <class 'pandas.core.series.Series'>\n",
      "columns in X Index(['Number_of_bedrooms', 'Living_area', 'Open_fire', 'Swimming_Pool',\n",
      "       'Kitchen_type', 'Number_of_facades', 'State_of_building', 'epc',\n",
      "       'landSurface', 'Province', 'Has_Assigned_City'],\n",
      "      dtype='object')\n"
     ]
    }
   ],
   "source": [
    "### splitting in input and output : X and y ###\n",
    "X = df2.drop(['id', 'Price'], axis=1)\n",
    "y = df2[\"Price\"]\n",
    "print(\"data type of X and y:\",type(X), type(y))\n",
    "all = X.columns \n",
    "print(\"columns in X\", all)"
   ]
  },
  {
   "cell_type": "code",
   "execution_count": 5,
   "metadata": {},
   "outputs": [
    {
     "name": "stdout",
     "output_type": "stream",
     "text": [
      "shape of X_train and X_test: (3135, 11) (1045, 11)\n"
     ]
    }
   ],
   "source": [
    "### splitting in training and testing data ###\n",
    "X_train, X_test, y_train, y_test = train_test_split(X, y, random_state=41)\n",
    "print(\"shape of X_train and X_test:\" , X_train.shape, X_test.shape)"
   ]
  },
  {
   "cell_type": "code",
   "execution_count": 10,
   "metadata": {},
   "outputs": [
    {
     "data": {
      "application/vnd.jupyter.widget-view+json": {
       "model_id": "fd5d2c8e085f44c79295bb85a4007ce7",
       "version_major": 2,
       "version_minor": 0
      },
      "text/plain": [
       "MetricVisualizer(layout=Layout(align_self='stretch', height='500px'))"
      ]
     },
     "metadata": {},
     "output_type": "display_data"
    },
    {
     "name": "stdout",
     "output_type": "stream",
     "text": [
      "r2 on training data:  0.7878975514339925\n",
      "r2 on testing data:  0.6786242332741987\n",
      "RMSE on test data is:  74202.81573722234\n"
     ]
    }
   ],
   "source": [
    "### CatBoostRegressor ###\n",
    "cat_features = ['State_of_building', 'epc', 'Province', 'Kitchen_type']\n",
    "data = X_train\n",
    "label = y_train\n",
    "dataset = Pool(data, label, cat_features)\n",
    "# initialize Pool\n",
    "train_pool = Pool(X_train,\n",
    "                  y_train,\n",
    "                  cat_features)\n",
    "test_pool = Pool(X_test,\n",
    "                 y_test,\n",
    "                 cat_features)\n",
    "\n",
    "# # specify the training parameters\n",
    "model = CatBoostRegressor(objective='RMSE')\n",
    "\n",
    "#train the model\n",
    "model.fit(train_pool,verbose=False,plot=True, eval_set=test_pool) \n",
    "model.best_score_\n",
    "       \n",
    "### EVALUATE ###\n",
    "y_train_pred = model.predict(train_pool)\n",
    "r2_score_train=r2_score(y_train, y_train_pred)\n",
    "print(\"r2 on training data: \", r2_score_train)\n",
    "# make the prediction using the resulting model\n",
    "y_test_pred = model.predict(test_pool)\n",
    "r2_score_test=r2_score(y_test, y_test_pred)\n",
    "print(\"r2 on testing data: \",r2_score_test)\n",
    "\n",
    "RMSE = root_mean_squared_error(y_test, y_test_pred)\n",
    "print(\"RMSE on test data is: \", RMSE)"
   ]
  },
  {
   "cell_type": "code",
   "execution_count": 12,
   "metadata": {},
   "outputs": [
    {
     "data": {
      "application/vnd.jupyter.widget-view+json": {
       "model_id": "769da682e29948b086d71fb3146bc01f",
       "version_major": 2,
       "version_minor": 0
      },
      "text/plain": [
       "MetricVisualizer(layout=Layout(align_self='stretch', height='500px'))"
      ]
     },
     "metadata": {},
     "output_type": "display_data"
    },
    {
     "name": "stdout",
     "output_type": "stream",
     "text": [
      "r2 on training data:  0.7231837224608006\n",
      "r2 on testing data:  0.672824246351415\n",
      "RMSE on test data is:  74869.40442631856\n"
     ]
    }
   ],
   "source": [
    "### INDIVIDUAL TESTS ON PARAMETERS ###\n",
    "# # specify the training parameters\n",
    "model = CatBoostRegressor(objective='RMSE', iterations = 2000, learning_rate = 0.01, depth = 4, l2_leaf_reg = 1)\n",
    "\n",
    "#train the model\n",
    "\n",
    "model.fit(train_pool,verbose=False,plot=True, eval_set=test_pool) \n",
    "model.best_score_\n",
    "       \n",
    "### EVALUATE ###\n",
    "y_train_pred = model.predict(train_pool)\n",
    "r2_score_train=r2_score(y_train, y_train_pred)\n",
    "print(\"r2 on training data: \", r2_score_train)\n",
    "# make the prediction using the resulting model\n",
    "y_test_pred = model.predict(test_pool)\n",
    "r2_score_test=r2_score(y_test, y_test_pred)\n",
    "print(\"r2 on testing data: \",r2_score_test)\n",
    "\n",
    "RMSE = root_mean_squared_error(y_test, y_test_pred)\n",
    "print(\"RMSE on test data is: \", RMSE)\n",
    "\n"
   ]
  }
 ],
 "metadata": {
  "kernelspec": {
   "display_name": ".venv",
   "language": "python",
   "name": "python3"
  },
  "language_info": {
   "codemirror_mode": {
    "name": "ipython",
    "version": 3
   },
   "file_extension": ".py",
   "mimetype": "text/x-python",
   "name": "python",
   "nbconvert_exporter": "python",
   "pygments_lexer": "ipython3",
   "version": "3.12.6"
  }
 },
 "nbformat": 4,
 "nbformat_minor": 2
}
